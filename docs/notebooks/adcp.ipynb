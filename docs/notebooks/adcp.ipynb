{
 "cells": [
  {
   "cell_type": "markdown",
   "metadata": {
    "collapsed": true
   },
   "source": [
    "# NRL ADCP .mat file to CF-1.6 timeSeriesProfile using pocean"
   ]
  },
  {
   "cell_type": "markdown",
   "metadata": {},
   "source": [
    "Here we read a matlab file with minimal metadata, and write a CF-DSG 1.6 timeSeriesProfile netcdf file.  We want the file to work seamlessly with ERDDAP, so we add some ERDDAP specific attributes like `cdm_timeseries_variables`, `cdm_profile_variables`, and `subsetVariables`."
   ]
  },
  {
   "cell_type": "code",
   "execution_count": 1,
   "metadata": {
    "collapsed": true
   },
   "outputs": [],
   "source": [
    "import matplotlib.pyplot as plt\n",
    "import pandas as pd\n",
    "from scipy.io import loadmat\n",
    "import datetime as dt\n",
    "import numpy as np\n",
    "\n",
    "#conda install -c conda-forge pocean-core\n",
    "from pocean.dsg.timeseriesProfile.om import OrthogonalMultidimensionalTimeseriesProfile"
   ]
  },
  {
   "cell_type": "code",
   "execution_count": 2,
   "metadata": {
    "collapsed": true
   },
   "outputs": [],
   "source": [
    "# wget http://www.satlab.hawaii.edu/onr/adria/data/moorings/nrl/Final/ADCP_matlab/VR4f.mat\n",
    "d = loadmat('/data/ADRIA/MOORINGS/NRL/VR4f.mat')"
   ]
  },
  {
   "cell_type": "code",
   "execution_count": 3,
   "metadata": {},
   "outputs": [
    {
     "data": {
      "text/html": [
       "<div>\n",
       "<style>\n",
       "    .dataframe thead tr:only-child th {\n",
       "        text-align: right;\n",
       "    }\n",
       "\n",
       "    .dataframe thead th {\n",
       "        text-align: left;\n",
       "    }\n",
       "\n",
       "    .dataframe tbody tr th {\n",
       "        vertical-align: top;\n",
       "    }\n",
       "</style>\n",
       "<table border=\"1\" class=\"dataframe\">\n",
       "  <thead>\n",
       "    <tr style=\"text-align: right;\">\n",
       "      <th></th>\n",
       "      <th>profile</th>\n",
       "      <th>station</th>\n",
       "      <th>t</th>\n",
       "      <th>un</th>\n",
       "      <th>vn</th>\n",
       "      <th>wn</th>\n",
       "      <th>x</th>\n",
       "      <th>y</th>\n",
       "      <th>z</th>\n",
       "    </tr>\n",
       "  </thead>\n",
       "  <tbody>\n",
       "    <tr>\n",
       "      <th>296338</th>\n",
       "      <td>5199</td>\n",
       "      <td>VR4F</td>\n",
       "      <td>2003-04-29 03:00:00</td>\n",
       "      <td>0.061417</td>\n",
       "      <td>0.394078</td>\n",
       "      <td>0.017406</td>\n",
       "      <td>13.0281</td>\n",
       "      <td>45.187783</td>\n",
       "      <td>28.548073</td>\n",
       "    </tr>\n",
       "    <tr>\n",
       "      <th>296339</th>\n",
       "      <td>5199</td>\n",
       "      <td>VR4F</td>\n",
       "      <td>2003-04-29 03:00:00</td>\n",
       "      <td>-0.044268</td>\n",
       "      <td>0.653439</td>\n",
       "      <td>0.003686</td>\n",
       "      <td>13.0281</td>\n",
       "      <td>45.187783</td>\n",
       "      <td>29.048073</td>\n",
       "    </tr>\n",
       "    <tr>\n",
       "      <th>296340</th>\n",
       "      <td>5199</td>\n",
       "      <td>VR4F</td>\n",
       "      <td>2003-04-29 03:00:00</td>\n",
       "      <td>0.054443</td>\n",
       "      <td>0.386804</td>\n",
       "      <td>0.004221</td>\n",
       "      <td>13.0281</td>\n",
       "      <td>45.187783</td>\n",
       "      <td>29.548073</td>\n",
       "    </tr>\n",
       "    <tr>\n",
       "      <th>296341</th>\n",
       "      <td>5199</td>\n",
       "      <td>VR4F</td>\n",
       "      <td>2003-04-29 03:00:00</td>\n",
       "      <td>0.098836</td>\n",
       "      <td>0.529064</td>\n",
       "      <td>-0.011401</td>\n",
       "      <td>13.0281</td>\n",
       "      <td>45.187783</td>\n",
       "      <td>30.048073</td>\n",
       "    </tr>\n",
       "    <tr>\n",
       "      <th>296342</th>\n",
       "      <td>5199</td>\n",
       "      <td>VR4F</td>\n",
       "      <td>2003-04-29 03:00:00</td>\n",
       "      <td>0.008518</td>\n",
       "      <td>0.550976</td>\n",
       "      <td>0.011823</td>\n",
       "      <td>13.0281</td>\n",
       "      <td>45.187783</td>\n",
       "      <td>30.548073</td>\n",
       "    </tr>\n",
       "  </tbody>\n",
       "</table>\n",
       "</div>"
      ],
      "text/plain": [
       "        profile station                   t        un        vn        wn  \\\n",
       "296338     5199    VR4F 2003-04-29 03:00:00  0.061417  0.394078  0.017406   \n",
       "296339     5199    VR4F 2003-04-29 03:00:00 -0.044268  0.653439  0.003686   \n",
       "296340     5199    VR4F 2003-04-29 03:00:00  0.054443  0.386804  0.004221   \n",
       "296341     5199    VR4F 2003-04-29 03:00:00  0.098836  0.529064 -0.011401   \n",
       "296342     5199    VR4F 2003-04-29 03:00:00  0.008518  0.550976  0.011823   \n",
       "\n",
       "              x          y          z  \n",
       "296338  13.0281  45.187783  28.548073  \n",
       "296339  13.0281  45.187783  29.048073  \n",
       "296340  13.0281  45.187783  29.548073  \n",
       "296341  13.0281  45.187783  30.048073  \n",
       "296342  13.0281  45.187783  30.548073  "
      ]
     },
     "execution_count": 3,
     "metadata": {},
     "output_type": "execute_result"
    }
   ],
   "source": [
    "times = [dt.datetime(2002,1,1,0,0,0) + dt.timedelta(a) for a in d['timen'].flatten()]\n",
    "depths = d['mdepth'].flatten()\n",
    "\n",
    "# Repeat each time for the number of depths\n",
    "t = np.repeat(times, len(depths))\n",
    "\n",
    "# Create a profile index, and repeat for number of depths\n",
    "profile = np.repeat(np.array(range(len(times)), dtype=np.int32) + 1, len(depths))\n",
    "\n",
    "# Tile the depths for each time\n",
    "z = np.tile(depths, len(times))\n",
    "\n",
    "df = pd.DataFrame({\n",
    "    't': t,\n",
    "    'x': 13.0281,\n",
    "    'y': 45.187783,\n",
    "    'z': z,\n",
    "    'un': d['un'].T.flatten()/10.,   # cm/s to m/s\n",
    "    'vn': d['vn'].T.flatten()/10.,   # cm/s to m/s\n",
    "    'wn': d['wn'].T.flatten()/10.,   # cm/s to m/s\n",
    "    'profile': profile,\n",
    "    'station': 'VR4F'\n",
    "})\n",
    "\n",
    "df.tail()"
   ]
  },
  {
   "cell_type": "code",
   "execution_count": 4,
   "metadata": {
    "collapsed": true
   },
   "outputs": [],
   "source": [
    "atts={\n",
    "            'global': {\n",
    "                'title': 'ADRIA02 Mooring VR4',\n",
    "                'summary': 'Data from bottom-mounted ADCP',\n",
    "                'institution': 'NRL',\n",
    "                'cdm_timeseries_variables': 'station',\n",
    "                'cdm_profile_variables': 'profile',\n",
    "                'subsetVariables': 'depth'\n",
    "            },\n",
    "            'longitude': {\n",
    "                'units': 'degrees_east',\n",
    "                'standard_name':'longitude'\n",
    "            },\n",
    "            'latitude': {\n",
    "                'units': 'degrees_north',\n",
    "                'standard_name':'latitude'\n",
    "            },\n",
    "            'z': {\n",
    "                'units': 'm',\n",
    "                'standard_name': 'depth',\n",
    "                'positive':'down'\n",
    "            },\n",
    "            'un': {\n",
    "                'units': 'm/s',\n",
    "                'standard_name':'eastward_sea_water_velocity'\n",
    "            },\n",
    "            'vn': {\n",
    "                'units': 'm/s',\n",
    "                'standard_name':'northward_sea_water_velocity'\n",
    "            },\n",
    "            'profile': {\n",
    "                'cf_role': 'profile_id'\n",
    "            }\n",
    "        }"
   ]
  },
  {
   "cell_type": "code",
   "execution_count": 5,
   "metadata": {},
   "outputs": [
    {
     "data": {
      "text/plain": [
       "{'cdm_profile_variables': 'profile',\n",
       " 'cdm_timeseries_variables': 'station',\n",
       " 'institution': 'NRL',\n",
       " 'subsetVariables': 'depth',\n",
       " 'summary': 'Data from bottom-mounted ADCP',\n",
       " 'title': 'ADRIA02 Mooring VR4'}"
      ]
     },
     "execution_count": 5,
     "metadata": {},
     "output_type": "execute_result"
    }
   ],
   "source": [
    "atts['global']"
   ]
  },
  {
   "cell_type": "code",
   "execution_count": 6,
   "metadata": {
    "scrolled": true
   },
   "outputs": [
    {
     "name": "stderr",
     "output_type": "stream",
     "text": [
      "/home/richard.signell/miniconda3/envs/IOOS3/lib/python3.6/site-packages/pocean/dsg/timeseriesProfile/om.py:82: UserWarning: endian-ness of dtype and endian kwarg do not match, using endian kwarg\n",
      "  latitude = nc.createVariable('latitude', get_dtype(df.y), ('station',))\n",
      "/home/richard.signell/miniconda3/envs/IOOS3/lib/python3.6/site-packages/pocean/dsg/timeseriesProfile/om.py:83: UserWarning: endian-ness of dtype and endian kwarg do not match, using endian kwarg\n",
      "  longitude = nc.createVariable('longitude', get_dtype(df.x), ('station',))\n",
      "/home/richard.signell/miniconda3/envs/IOOS3/lib/python3.6/site-packages/pocean/dsg/timeseriesProfile/om.py:84: UserWarning: endian-ness of dtype and endian kwarg do not match, using endian kwarg\n",
      "  z = nc.createVariable('z', get_dtype(df.z), ('z',))\n",
      "/home/richard.signell/miniconda3/envs/IOOS3/lib/python3.6/site-packages/pocean/dsg/timeseriesProfile/om.py:108: UserWarning: endian-ness of dtype and endian kwarg do not match, using endian kwarg\n",
      "  v = nc.createVariable(var_name, get_dtype(sdf[c]), ('time', 'z', 'station'), fill_value=sdf[c].dtype.type(cls.default_fill_value))\n"
     ]
    },
    {
     "data": {
      "text/plain": [
       "<class 'pocean.dsg.timeseriesProfile.om.OrthogonalMultidimensionalTimeseriesProfile'>\n",
       "root group (NETCDF4 data model, file format HDF5):\n",
       "    Conventions: CF-1.6\n",
       "    date_created: 2017-06-21T12:19:00Z\n",
       "    featureType: timeseriesProfile\n",
       "    cdm_data_type: TimeseriesProfile\n",
       "    title: ADRIA02 Mooring VR4\n",
       "    summary: Data from bottom-mounted ADCP\n",
       "    institution: NRL\n",
       "    cdm_timeseries_variables: station\n",
       "    cdm_profile_variables: profile\n",
       "    subsetVariables: depth\n",
       "    dimensions(sizes): station(1), time(5199), z(57)\n",
       "    variables(dimensions): int32 \u001b[4mcrs\u001b[0m(), <class 'str'> \u001b[4mstation\u001b[0m(station), float64 \u001b[4mtime\u001b[0m(time), float64 \u001b[4mlatitude\u001b[0m(station), float64 \u001b[4mlongitude\u001b[0m(station), float64 \u001b[4mz\u001b[0m(z), int32 \u001b[4mprofile\u001b[0m(time,z,station), float64 \u001b[4mun\u001b[0m(time,z,station), float64 \u001b[4mvn\u001b[0m(time,z,station), float64 \u001b[4mwn\u001b[0m(time,z,station)\n",
       "    groups: "
      ]
     },
     "execution_count": 6,
     "metadata": {},
     "output_type": "execute_result"
    }
   ],
   "source": [
    "OrthogonalMultidimensionalTimeseriesProfile.from_dataframe(df, output='/data/ADRIA/MOORINGS/NRL/vr4f.nc', \n",
    "                                                          attributes=atts)"
   ]
  }
 ],
 "metadata": {
  "_draft": {
   "nbviewer_url": "https://gist.github.com/b2f37b7724981e80e48bd59311ac9a58"
  },
  "gist": {
   "data": {
    "description": "erddap/adcp.ipynb",
    "public": true
   },
   "id": "b2f37b7724981e80e48bd59311ac9a58"
  },
  "kernelspec": {
   "display_name": "Python [conda env:IOOS3]",
   "language": "python",
   "name": "conda-env-IOOS3-py"
  },
  "language_info": {
   "codemirror_mode": {
    "name": "ipython",
    "version": 3
   },
   "file_extension": ".py",
   "mimetype": "text/x-python",
   "name": "python",
   "nbconvert_exporter": "python",
   "pygments_lexer": "ipython3",
   "version": "3.6.1"
  }
 },
 "nbformat": 4,
 "nbformat_minor": 2
}
